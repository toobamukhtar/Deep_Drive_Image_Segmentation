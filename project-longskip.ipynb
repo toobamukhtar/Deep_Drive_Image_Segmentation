{
 "cells": [
  {
   "cell_type": "code",
   "execution_count": 1,
   "metadata": {},
   "outputs": [
    {
     "name": "stderr",
     "output_type": "stream",
     "text": [
      "Using TensorFlow backend.\n"
     ]
    }
   ],
   "source": [
    "import os \n",
    "import numpy as np\n",
    "import pandas as pd\n",
    "from matplotlib import pyplot as plt\n",
    "import cv2\n",
    "import tensorflow as tf\n",
    "from keras.models import Sequential, Model\n",
    "from keras.engine.topology import Input\n",
    "from keras.layers.core import Dense, Dropout, Activation,Reshape\n",
    "from keras.layers import Conv1D, Conv2D, Flatten, MaxPooling2D, UpSampling2D, ZeroPadding2D\n",
    "from keras.layers.normalization import BatchNormalization\n",
    "from keras.utils import np_utils\n",
    "from keras.utils import plot_model\n",
    "from keras import backend as K\n",
    "import keras\n",
    "from PIL import Image\n",
    "from sklearn.model_selection import train_test_split\n",
    "from keras.layers.core import Lambda\n",
    "from IPython.display import SVG\n",
    "from keras.utils.vis_utils import model_to_dot\n",
    "from keras.callbacks import ModelCheckpoint, EarlyStopping,TensorBoard,CSVLogger,ReduceLROnPlateau"
   ]
  },
  {
   "cell_type": "markdown",
   "metadata": {},
   "source": [
    "## Parameters"
   ]
  },
  {
   "cell_type": "code",
   "execution_count": 4,
   "metadata": {
    "collapsed": true
   },
   "outputs": [],
   "source": [
    "batch = 5\n",
    "epochs = 3;\n",
    "num_classes = 41;\n",
    "input_Shape = (150,150)\n",
    "num_train_samples = 800\n",
    "num_test_samples = 200\n",
    "model_name = 'long_skip'\n",
    "# creates folder\n",
    "if not os.path.exists('./'+model_name):\n",
    "    os.mkdir(model_name)"
   ]
  },
  {
   "cell_type": "code",
   "execution_count": 2,
   "metadata": {},
   "outputs": [
    {
     "data": {
      "text/plain": [
       "['gt',\n",
       " 'images',\n",
       " 'labels_categorical',\n",
       " 'label_colors.csv',\n",
       " 'long_skip',\n",
       " 'long_skipmy_weights.h5',\n",
       " 'long_skip_model.png',\n",
       " 'short-long_skip',\n",
       " 'short-long_skipmy_weights.h5',\n",
       " 'short-long_skip_model.png',\n",
       " 'short_skip',\n",
       " 'short_skipmy_weights.h5',\n",
       " 'short_skip_model.png']"
      ]
     },
     "execution_count": 2,
     "metadata": {},
     "output_type": "execute_result"
    }
   ],
   "source": [
    "os.listdir()\n",
    "os.chdir('./Dataset/Segmentation/')\n",
    "os.listdir()"
   ]
  },
  {
   "cell_type": "markdown",
   "metadata": {},
   "source": [
    "## Load Filenames"
   ]
  },
  {
   "cell_type": "code",
   "execution_count": 4,
   "metadata": {
    "collapsed": true
   },
   "outputs": [],
   "source": [
    "dataset = []\n",
    "folder = \"./images/\"\n",
    "files = [f for f in os.listdir(folder) if os.path.isfile(os.path.join(folder, f))]\n",
    "for file in files:\n",
    "    dataset.append(file)\n"
   ]
  },
  {
   "cell_type": "code",
   "execution_count": 5,
   "metadata": {
    "collapsed": true
   },
   "outputs": [],
   "source": [
    "dataset_labels = []\n",
    "folder = \"./labels_categorical/\"\n",
    "files = [f for f in os.listdir(folder) if os.path.isfile(os.path.join(folder, f))]\n",
    "for file in files:\n",
    "    dataset_labels.append(file)"
   ]
  },
  {
   "cell_type": "markdown",
   "metadata": {},
   "source": [
    "## Split into Train and Test"
   ]
  },
  {
   "cell_type": "code",
   "execution_count": 6,
   "metadata": {
    "collapsed": true
   },
   "outputs": [],
   "source": [
    "x_train,x_test,y_train,y_test = train_test_split(dataset,dataset_labels,test_size = 0.2)"
   ]
  },
  {
   "cell_type": "markdown",
   "metadata": {},
   "source": [
    "## Load Data"
   ]
  },
  {
   "cell_type": "code",
   "execution_count": 7,
   "metadata": {
    "collapsed": true
   },
   "outputs": [],
   "source": [
    "X_train = np.zeros((num_train_samples,input_Shape[0],input_Shape[1], 3 ))\n",
    "for index,item in enumerate(x_train): \n",
    "    path = \"./images/\" + item\n",
    "    img = plt.imread(path)\n",
    "    new_img = cv2.resize(img,(int(input_Shape[0]),int(input_Shape[1])))\n",
    "    array = np.array(new_img)\n",
    "    X_train[index] = array.reshape((input_Shape[0],input_Shape[1],3)) \n",
    "    \n",
    "    \n",
    "X_test = np.zeros((num_test_samples,input_Shape[0],input_Shape[1], 3 ))\n",
    "for index,item in enumerate(x_test):\n",
    "    path = \"./images/\" + item\n",
    "    img = plt.imread(path)\n",
    "    new_img = cv2.resize(img,(int(input_Shape[0]),int(input_Shape[1])))\n",
    "    array = np.array(new_img)\n",
    "    X_test[index] = array.reshape((input_Shape[0],input_Shape[1],3))\n"
   ]
  },
  {
   "cell_type": "code",
   "execution_count": 8,
   "metadata": {
    "collapsed": true
   },
   "outputs": [],
   "source": [
    "Y_train = np.zeros((num_train_samples,input_Shape[0],input_Shape[1], num_classes ))\n",
    "for index,item in enumerate(y_train): \n",
    "    path = \"./labels_categorical/\" + item\n",
    "    Y_train[index] = np.load(path)\n",
    "    \n",
    "Y_test = np.zeros((num_test_samples,input_Shape[0],input_Shape[1], num_classes ))\n",
    "for index,item in enumerate(y_test): \n",
    "    path = \"./labels_categorical/\" + item\n",
    "    Y_test[index] = np.load(path)"
   ]
  },
  {
   "cell_type": "code",
   "execution_count": 9,
   "metadata": {
    "collapsed": true
   },
   "outputs": [],
   "source": [
    "classes = pd.read_csv('./label_colors.csv',sep='\\t',header=None)\n",
    "classes['class'] = classes.index.values.astype(int)\n",
    "classes.columns = ['rgb','name','class']"
   ]
  },
  {
   "cell_type": "code",
   "execution_count": 10,
   "metadata": {
    "collapsed": true
   },
   "outputs": [],
   "source": [
    "def image_map(im) :\n",
    "    \n",
    "    t = np.zeros((input_Shape[0],input_Shape[1],num_classes),dtype = int)\n",
    "    for n in range(num_classes) :\n",
    "        for i in range(im.shape[0]):\n",
    "            for j in range(im.shape[1]):\n",
    "            \n",
    "                color = classes['rgb'][n].split(' ')\n",
    "                color = [int(i) for i in color]\n",
    "                \n",
    "                if ( im[i,j,0] == color[0] and im[i,j,1] == color[1] and im[i,j,2] == color[2] ):\n",
    "                    t[i,j,n] = 1\n",
    "\n",
    "    return t"
   ]
  },
  {
   "cell_type": "code",
   "execution_count": 11,
   "metadata": {
    "collapsed": true
   },
   "outputs": [],
   "source": [
    "def map_img(segmap) :\n",
    "    t = np.zeros((input_Shape[0],input_Shape[1],3),dtype = int)\n",
    "    for i in range(input_Shape[0]) :\n",
    "        for j in range(input_Shape[1]):\n",
    "            a = segmap[i,j,:].argmax()\n",
    "            color = classes['rgb'][a].split(' ')\n",
    "            t[i,j,0] = int(color[0]) \n",
    "            t[i,j,1] = int(color[1])\n",
    "            t[i,j,2] = int(color[2])\n",
    "\n",
    "    return t"
   ]
  },
  {
   "cell_type": "code",
   "execution_count": null,
   "metadata": {
    "collapsed": true
   },
   "outputs": [],
   "source": [
    "# for index,item in enumerate(dataset):\n",
    "#   im = labels[index]\n",
    "#   np.save(item,image_map(im))"
   ]
  },
  {
   "cell_type": "code",
   "execution_count": 24,
   "metadata": {
    "collapsed": true
   },
   "outputs": [],
   "source": [
    "def jaccard_distance(y_true, y_pred, smooth=100):\n",
    "    print (y_true.shape)\n",
    "    print (y_pred.shape)\n",
    "\n",
    "    intersection = K.sum(K.abs(y_true * y_pred), axis=-1)\n",
    "    sum_ = K.sum(K.abs(y_true) + K.abs(y_pred), axis=-1)\n",
    "    jac = (intersection + smooth) / (sum_ - intersection + smooth)\n",
    "    return (1 - jac) * smooth"
   ]
  },
  {
   "cell_type": "code",
   "execution_count": 5,
   "metadata": {},
   "outputs": [],
   "source": [
    "# ENCODER\n",
    "\n",
    "# Channels last \n",
    "input_img = Input(shape=(input_Shape[0],input_Shape[1],3))\n",
    "\n",
    "layer_1 = Conv2D(32,(3,3),padding = 'same', name = 'Conv_1',strides = 1)(input_img)\n",
    "layer_1 = BatchNormalization(name = 'BN_1')(layer_1)\n",
    "layer_1 = Activation('relu')(layer_1)\n",
    "layer_1 = MaxPooling2D((2, 2), padding='same', name = 'pool_1', strides = 2)(layer_1)\n",
    "# 75,75,32\n",
    "\n",
    "\n",
    "\n",
    "layer1_upsample = UpSampling2D((2, 2),name = 'upsample_l1')(layer_1)\n",
    "# 150,150,32\n",
    "\n",
    "# When you are using tf operation you are getting tf tensor object which doesn't have history field\n",
    "# When you use keras functions you will get keras.tensors. so to get keras tensor wrap in lambda layer\n",
    "layer1_pad = Lambda(lambda x: tf.pad(x,paddings=tf.constant([[0, 0,], [1, 1,],[1,1,],[0,0]]) ,mode=\"REFLECT\",name='pad_1'))(layer1_upsample)\n",
    "# 152,152,32\n",
    "\n",
    "\n",
    "layer_2 = Conv2D(64,(3,3),padding = 'same', name = 'Conv_2',strides = 1)(layer_1)\n",
    "layer_2 = BatchNormalization(name = 'BN_2')(layer_2)\n",
    "layer_2 = Activation('relu')(layer_2)\n",
    "layer_2 = MaxPooling2D((2, 2), padding='same', name = 'pool_2', strides = 2)(layer_2)\n",
    "\n",
    "layer2_upsample = UpSampling2D((2, 2),name = 'upsample_l2')(layer_2)\n",
    "layer2_upsample =  UpSampling2D((2, 2),name = 'upsample_l3')(layer2_upsample)\n",
    "# 152,152,64\n",
    "\n",
    "\n",
    "\n",
    "layer_3 = Conv2D(128,(3,3),padding = 'same', name = 'Conv_3',strides = 1)(layer_2)\n",
    "layer_3 = BatchNormalization(name = 'BN_3')(layer_3)\n",
    "layer_3 = Activation('relu')(layer_3)\n",
    "\n",
    "\n",
    "layer3_upsample = UpSampling2D((2, 2),name = 'upsample_l4')(layer_3)\n",
    "# 76,76,128\n",
    "\n",
    "\n",
    "# DECODER\n",
    "layer_4 = Conv2D(128,(3,3),padding = 'same', name = 'Conv_4',strides = 1)(layer_3)\n",
    "layer_4 = BatchNormalization(name = 'BN_4')(layer_4)\n",
    "layer_4 = Activation('relu')(layer_4)\n",
    "layer_4 = UpSampling2D((2, 2),name = 'upsample_l5')(layer_4)\n",
    "\n",
    "\n",
    "# my_concat3 = Lambda(lambda x: K.concatenate([x[0],x[1]],axis=-1))([layer3_upsample,layer_4])\n",
    "my_concat3 = keras.layers.concatenate([layer3_upsample,layer_4],axis = -1)\n",
    "# 76,76,256\n",
    "\n",
    "\n",
    "layer_5 = Conv2D(64,(3,3),padding = 'same', name = 'Conv_5',strides = 1)(my_concat3)\n",
    "layer_5 = BatchNormalization(name = 'BN_5')(layer_5)\n",
    "layer_5 = Activation('relu')(layer_5)\n",
    "layer_5 = UpSampling2D((2, 2),name = 'upsample_l6')(layer_5)\n",
    "# 152,152,64\n",
    "\n",
    "\n",
    "# my_concat2 = Lambda(lambda x: K.concatenate([x[0],x[1]],axis=-1))([layer2_upsample,layer_5])\n",
    "my_concat2 = keras.layers.concatenate([layer2_upsample,layer_5],axis = -1)\n",
    "\n",
    "layer_6 = Conv2D(32,(3,3),padding = 'same', name = 'Conv_6',strides = 1)(my_concat2)\n",
    "layer_6 = BatchNormalization(name = 'BN_6')(layer_6)\n",
    "layer_6 = Activation('relu')(layer_6)\n",
    "# 152,152,32\n",
    "\n",
    "my_concat1 = keras.layers.concatenate([layer1_pad,layer_6],axis = -1)\n",
    "# 152,152,64\n",
    "\n",
    "\n",
    "layer_7 = Conv2D(num_classes,(3,3),padding ='valid',name = 'Conv_7')(my_concat1)\n",
    "layer_7  = BatchNormalization(name = 'BN_7')(layer_7)\n",
    "decoded= Activation('softmax')(layer_7)\n",
    "\n",
    "\n",
    "autoencoder = Model(input_img,decoded)\n"
   ]
  },
  {
   "cell_type": "code",
   "execution_count": 6,
   "metadata": {
    "collapsed": true
   },
   "outputs": [],
   "source": [
    "# Plot model\n",
    "plot_model(autoencoder, to_file= model_name + '_model.png',show_shapes=True)"
   ]
  },
  {
   "cell_type": "code",
   "execution_count": 35,
   "metadata": {},
   "outputs": [
    {
     "name": "stdout",
     "output_type": "stream",
     "text": [
      "__________________________________________________________________________________________________\n",
      "Layer (type)                    Output Shape         Param #     Connected to                     \n",
      "==================================================================================================\n",
      "input_1 (InputLayer)            (None, 150, 150, 3)  0                                            \n",
      "__________________________________________________________________________________________________\n",
      "Conv_1 (Conv2D)                 (None, 150, 150, 32) 896         input_1[0][0]                    \n",
      "__________________________________________________________________________________________________\n",
      "BN_1 (BatchNormalization)       (None, 150, 150, 32) 128         Conv_1[0][0]                     \n",
      "__________________________________________________________________________________________________\n",
      "activation_1 (Activation)       (None, 150, 150, 32) 0           BN_1[0][0]                       \n",
      "__________________________________________________________________________________________________\n",
      "pool_1 (MaxPooling2D)           (None, 75, 75, 32)   0           activation_1[0][0]               \n",
      "__________________________________________________________________________________________________\n",
      "Conv_2 (Conv2D)                 (None, 75, 75, 64)   18496       pool_1[0][0]                     \n",
      "__________________________________________________________________________________________________\n",
      "BN_2 (BatchNormalization)       (None, 75, 75, 64)   256         Conv_2[0][0]                     \n",
      "__________________________________________________________________________________________________\n",
      "activation_2 (Activation)       (None, 75, 75, 64)   0           BN_2[0][0]                       \n",
      "__________________________________________________________________________________________________\n",
      "pool_2 (MaxPooling2D)           (None, 38, 38, 64)   0           activation_2[0][0]               \n",
      "__________________________________________________________________________________________________\n",
      "Conv_3 (Conv2D)                 (None, 38, 38, 128)  73856       pool_2[0][0]                     \n",
      "__________________________________________________________________________________________________\n",
      "BN_3 (BatchNormalization)       (None, 38, 38, 128)  512         Conv_3[0][0]                     \n",
      "__________________________________________________________________________________________________\n",
      "activation_3 (Activation)       (None, 38, 38, 128)  0           BN_3[0][0]                       \n",
      "__________________________________________________________________________________________________\n",
      "Conv_4 (Conv2D)                 (None, 38, 38, 128)  147584      activation_3[0][0]               \n",
      "__________________________________________________________________________________________________\n",
      "BN_4 (BatchNormalization)       (None, 38, 38, 128)  512         Conv_4[0][0]                     \n",
      "__________________________________________________________________________________________________\n",
      "activation_4 (Activation)       (None, 38, 38, 128)  0           BN_4[0][0]                       \n",
      "__________________________________________________________________________________________________\n",
      "upsample_l4 (UpSampling2D)      (None, 76, 76, 128)  0           activation_3[0][0]               \n",
      "__________________________________________________________________________________________________\n",
      "upsample_l5 (UpSampling2D)      (None, 76, 76, 128)  0           activation_4[0][0]               \n",
      "__________________________________________________________________________________________________\n",
      "concatenate_1 (Concatenate)     (None, 76, 76, 256)  0           upsample_l4[0][0]                \n",
      "                                                                 upsample_l5[0][0]                \n",
      "__________________________________________________________________________________________________\n",
      "Conv_5 (Conv2D)                 (None, 76, 76, 64)   147520      concatenate_1[0][0]              \n",
      "__________________________________________________________________________________________________\n",
      "BN_5 (BatchNormalization)       (None, 76, 76, 64)   256         Conv_5[0][0]                     \n",
      "__________________________________________________________________________________________________\n",
      "upsample_l2 (UpSampling2D)      (None, 76, 76, 64)   0           pool_2[0][0]                     \n",
      "__________________________________________________________________________________________________\n",
      "activation_5 (Activation)       (None, 76, 76, 64)   0           BN_5[0][0]                       \n",
      "__________________________________________________________________________________________________\n",
      "upsample_l3 (UpSampling2D)      (None, 152, 152, 64) 0           upsample_l2[0][0]                \n",
      "__________________________________________________________________________________________________\n",
      "upsample_l6 (UpSampling2D)      (None, 152, 152, 64) 0           activation_5[0][0]               \n",
      "__________________________________________________________________________________________________\n",
      "concatenate_2 (Concatenate)     (None, 152, 152, 128 0           upsample_l3[0][0]                \n",
      "                                                                 upsample_l6[0][0]                \n",
      "__________________________________________________________________________________________________\n",
      "Conv_6 (Conv2D)                 (None, 152, 152, 32) 36896       concatenate_2[0][0]              \n",
      "__________________________________________________________________________________________________\n",
      "upsample_l1 (UpSampling2D)      (None, 150, 150, 32) 0           pool_1[0][0]                     \n",
      "__________________________________________________________________________________________________\n",
      "BN_6 (BatchNormalization)       (None, 152, 152, 32) 128         Conv_6[0][0]                     \n",
      "__________________________________________________________________________________________________\n",
      "lambda_1 (Lambda)               (None, 152, 152, 32) 0           upsample_l1[0][0]                \n",
      "__________________________________________________________________________________________________\n",
      "activation_6 (Activation)       (None, 152, 152, 32) 0           BN_6[0][0]                       \n",
      "__________________________________________________________________________________________________\n",
      "concatenate_3 (Concatenate)     (None, 152, 152, 64) 0           lambda_1[0][0]                   \n",
      "                                                                 activation_6[0][0]               \n",
      "__________________________________________________________________________________________________\n",
      "Conv_7 (Conv2D)                 (None, 150, 150, 41) 23657       concatenate_3[0][0]              \n",
      "__________________________________________________________________________________________________\n",
      "BN_7 (BatchNormalization)       (None, 150, 150, 41) 164         Conv_7[0][0]                     \n",
      "__________________________________________________________________________________________________\n",
      "activation_7 (Activation)       (None, 150, 150, 41) 0           BN_7[0][0]                       \n",
      "==================================================================================================\n",
      "Total params: 450,861\n",
      "Trainable params: 449,883\n",
      "Non-trainable params: 978\n",
      "__________________________________________________________________________________________________\n"
     ]
    }
   ],
   "source": [
    "# Complile Model with the same fixed set of hyperparameters\n",
    "autoencoder.compile(optimizer = 'adam',loss = 'categorical_crossentropy',metrics = ['accuracy'])\n",
    "autoencoder.summary()"
   ]
  },
  {
   "cell_type": "code",
   "execution_count": 14,
   "metadata": {
    "collapsed": true
   },
   "outputs": [],
   "source": [
    "# Code for storing history of model \n",
    "checkpoint = ModelCheckpoint(model_name+'/'+model_name+'.h5',monitor='val_loss',verbose = 2,save_best_only = True,save_weights_only = True, mode = 'auto')\n",
    "earlystop = EarlyStopping(monitor='val_loss', min_delta=0, patience = 4, verbose=0, mode='auto')\n",
    "tensorboard = TensorBoard(log_dir='./'+model_name, histogram_freq=0, batch_size=batch, write_graph=True, write_grads=False, write_images=True, embeddings_freq=0, embeddings_layer_names=None, embeddings_metadata=None)\n",
    "rp = ReduceLROnPlateau(monitor='val_loss', factor=0.2, patience = 4, min_lr=0.001)\n",
    "csvlogger = CSVLogger(model_name+'/logs.csv', separator=',', append= True)\n",
    "callbacks = [checkpoint,tensorboard, earlystop, csvlogger, rp]"
   ]
  },
  {
   "cell_type": "code",
   "execution_count": 36,
   "metadata": {
    "collapsed": true
   },
   "outputs": [],
   "source": [
    "# autoencoder.load_weights(model_name+'/'+model_name+'.h5')\n",
    "autoencoder.load_weights(model_name + 'my_weights.h5')"
   ]
  },
  {
   "cell_type": "code",
   "execution_count": 62,
   "metadata": {},
   "outputs": [
    {
     "name": "stdout",
     "output_type": "stream",
     "text": [
      "Train on 800 samples, validate on 200 samples\n",
      "Epoch 1/3\n",
      "800/800 [==============================] - 1050s 1s/step - loss: 1.3031 - acc: 0.7017 - val_loss: 1.4287 - val_acc: 0.6876\n",
      "\n",
      "Epoch 00001: val_loss did not improve from 1.31563\n",
      "Epoch 2/3\n",
      "800/800 [==============================] - 1084s 1s/step - loss: 1.2961 - acc: 0.7051 - val_loss: 1.3402 - val_acc: 0.7018\n",
      "\n",
      "Epoch 00002: val_loss did not improve from 1.31563\n",
      "Epoch 3/3\n",
      "800/800 [==============================] - 1445s 2s/step - loss: 1.2900 - acc: 0.7051 - val_loss: 1.3810 - val_acc: 0.6899\n",
      "\n",
      "Epoch 00003: val_loss did not improve from 1.31563\n"
     ]
    }
   ],
   "source": [
    "# Fine-tune the model with your dataset for segmentation\n",
    "auto_encoder_train = autoencoder.fit(X_train,Y_train, batch_size = batch , epochs=epochs,callbacks = callbacks,validation_data = (X_test,Y_test))"
   ]
  },
  {
   "cell_type": "code",
   "execution_count": 48,
   "metadata": {
    "collapsed": true
   },
   "outputs": [],
   "source": [
    "autoencoder.save_weights(model_name + 'my_weights.h5')"
   ]
  },
  {
   "cell_type": "code",
   "execution_count": 33,
   "metadata": {},
   "outputs": [
    {
     "data": {
      "image/png": "[encoded data removed]",
      "text/plain": [
       "<Figure size 432x288 with 1 Axes>"
      ]
     },
     "metadata": {},
     "output_type": "display_data"
    }
   ],
   "source": [
    "pd.read_csv(model_name+'/logs.csv').plot()\n",
    "plt.show()"
   ]
  },
  {
   "cell_type": "code",
   "execution_count": 60,
   "metadata": {},
   "outputs": [
    {
     "data": {
      "image/png": "[encoded data removed]",
      "text/plain": [
       "<Figure size 432x288 with 1 Axes>"
      ]
     },
     "metadata": {},
     "output_type": "display_data"
    },
    {
     "data": {
      "image/png": "[encoded data removed]",
      "text/plain": [
       "<Figure size 432x288 with 1 Axes>"
      ]
     },
     "metadata": {},
     "output_type": "display_data"
    },
    {
     "data": {
      "image/png": "[encoded data removed]",
      "text/plain": [
       "<Figure size 432x288 with 1 Axes>"
      ]
     },
     "metadata": {},
     "output_type": "display_data"
    }
   ],
   "source": [
    "index = 13\n",
    "inp = np.zeros((1,input_Shape[0],input_Shape[1],3))\n",
    "inp[0] = X_test[index]\n",
    "predicted = autoencoder.predict(inp)\n",
    "out = map_img(predicted[0])\n",
    "plt.imshow(X_test[index])\n",
    "plt.show()\n",
    "os.listdir()\n",
    "lb = plt.imread('./gt/' + x_test[index])\n",
    "plt.imshow(cv2.resize(lb,(input_Shape[0],input_Shape[1])))\n",
    "plt.show()\n",
    "plt.imshow(out)\n",
    "plt.show()\n"
   ]
  }
 ],
 "metadata": {
  "kernelspec": {
   "display_name": "Python 3",
   "language": "python",
   "name": "python3"
  },
  "language_info": {
   "codemirror_mode": {
    "name": "ipython",
    "version": 3
   },
   "file_extension": ".py",
   "mimetype": "text/x-python",
   "name": "python",
   "nbconvert_exporter": "python",
   "pygments_lexer": "ipython3",
   "version": "3.5.4"
  }
 },
 "nbformat": 4,
 "nbformat_minor": 2
}
