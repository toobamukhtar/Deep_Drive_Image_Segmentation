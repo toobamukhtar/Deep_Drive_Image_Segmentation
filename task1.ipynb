{
 "cells": [
  {
   "cell_type": "markdown",
   "metadata": {},
   "source": [
    "## Semantic segmentation on deep drive\n",
    "### Task No. 1\n",
    "> Group No 3\n",
    "\n",
    ">>**1. Ammar Ahmad (19100176)**\n",
    "\n",
    ">>**2. Tooba Mukhtar (19100210)**"
   ]
  },
  {
   "cell_type": "code",
   "execution_count": 1,
   "metadata": {
    "collapsed": true
   },
   "outputs": [],
   "source": [
    "# Description of importing the required libraries\n",
    "# Numpy : used to manage data structutes and images. helpful in preprocessing\n",
    "# Keras: used to implement the network \n",
    "# Pandas: used to read label information\n",
    "# matlplotlib: used to plot data"
   ]
  },
  {
   "cell_type": "code",
   "execution_count": 8,
   "metadata": {},
   "outputs": [],
   "source": [
    "import numpy as np\n",
    "import pandas as pd\n",
    "from keras.models import Sequential, Model\n",
    "from keras.engine.topology import Input\n",
    "from keras.layers.core import Dense, Dropout, Activation,Reshape\n",
    "from keras.layers import Conv1D, Conv2D, Flatten, MaxPooling2D, UpSampling2D\n",
    "from keras.layers.normalization import BatchNormalization\n",
    "from keras.utils import np_utils\n",
    "from keras.utils import plot_model\n",
    "from keras.optimizers import Adam,RMSprop\n",
    "from keras.preprocessing.image import ImageDataGenerator\n",
    "from PIL import Image\n",
    "import os\n",
    "from sklearn.model_selection import train_test_split\n",
    "from matplotlib import pyplot as plt"
   ]
  },
  {
   "cell_type": "code",
   "execution_count": 9,
   "metadata": {
    "collapsed": true
   },
   "outputs": [],
   "source": [
    "batch = 1\n",
    "epochs = 1;\n",
    "num_classes = 41;\n",
    "input_Shape = (150,150)"
   ]
  },
  {
   "cell_type": "markdown",
   "metadata": {},
   "source": [
    "### Description of batch generator \n",
    "    Keras provides an image data generator which has been used to load images from a directory. The batch generator loads images in memory in parallel with model.fit. A wrapper has been used above this batch generator to implement soe other functionalities. \n",
    "#### Task 1a"
   ]
  },
  {
   "cell_type": "code",
   "execution_count": 12,
   "metadata": {},
   "outputs": [
    {
     "name": "stdout",
     "output_type": "stream",
     "text": [
      "Found 800 images belonging to 1 classes.\n",
      "Found 800 images belonging to 1 classes.\n",
      "Found 200 images belonging to 1 classes.\n",
      "Found 200 images belonging to 1 classes.\n"
     ]
    }
   ],
   "source": [
    "train_datagen = ImageDataGenerator(\n",
    "        rescale=1./255,\n",
    "        shear_range=0.2,\n",
    "        zoom_range=0.2,\n",
    "        horizontal_flip=True)\n",
    "\n",
    "train_generator = train_datagen.flow_from_directory(\n",
    "        'data_deep_drive/Training',\n",
    "        target_size=input_Shape,\n",
    "        batch_size=batch,\n",
    "        color_mode = 'rgb',\n",
    "        class_mode=None)\n",
    "train_generator_labels = train_datagen.flow_from_directory(\n",
    "        'data_deep_drive_labels/Training',\n",
    "        target_size=input_Shape,\n",
    "        batch_size=batch,\n",
    "        color_mode = 'rgb',\n",
    "        class_mode=None)\n",
    "\n",
    "\n",
    "test_datagen = ImageDataGenerator(\n",
    "        rescale=1./255,\n",
    "        shear_range=0.2,\n",
    "        zoom_range=0.2,\n",
    "        horizontal_flip=True)\n",
    "\n",
    "test_generator = train_datagen.flow_from_directory(\n",
    "        'data_deep_drive/Testing',\n",
    "        target_size=input_Shape,\n",
    "        batch_size=batch,\n",
    "        color_mode = 'rgb',\n",
    "        class_mode=None)\n",
    "test_generator_labels = train_datagen.flow_from_directory(\n",
    "        'data_deep_drive_labels/Testing',\n",
    "        target_size=input_Shape,\n",
    "        batch_size=batch,\n",
    "        color_mode = 'rgb',\n",
    "        class_mode=None)\n",
    "\n",
    "train_gen = zip(train_generator,train_generator_labels)\n",
    "test_gen = zip(test_generator,test_generator_labels)"
   ]
  },
  {
   "cell_type": "markdown",
   "metadata": {},
   "source": [
    "## Description of To_Categorical Conversion\n",
    "    We have image segmentation maps which are of size (rows,cols,3) and we want to convert them to (rows,cols,nb_classes) so that each pixel belongs to a class. RGB value of every pixel is looked up and compared ot RGB value of every class and if it matches then it is set to 1 otherwise 0 so that the labels are in the form of a mask.\n",
    "### Task 1b"
   ]
  },
  {
   "cell_type": "markdown",
   "metadata": {},
   "source": [
    "## Load Class Names and values"
   ]
  },
  {
   "cell_type": "code",
   "execution_count": 25,
   "metadata": {
    "collapsed": true
   },
   "outputs": [],
   "source": [
    "classes = pd.read_csv('label_colors.csv',sep='\\t',header=None)\n",
    "classes['class'] = classes.index.values.astype(int)\n",
    "classes.columns = ['rgb','name','class']"
   ]
  },
  {
   "cell_type": "code",
   "execution_count": 14,
   "metadata": {
    "collapsed": true
   },
   "outputs": [],
   "source": [
    "def image_map(im,classes) :\n",
    "    t = np.zeros((150,150,41),dtype = 'float32')\n",
    "    for n in range(num_classes) :\n",
    "        temp_img = np.zeros((150,150),dtype = 'float32')\n",
    "        for i in range(im.shape[0]):\n",
    "            for j in range(im.shape[1]):\n",
    "            \n",
    "                temp = str(im[i,j,0]) + ' ' + str(im[i,j,1]) + ' ' + str(im[i,j,2])\n",
    "                if (temp == classes['rgb'][n]) :\n",
    "                    temp_img[i,j] = 1\n",
    "                else:\n",
    "                    temp_img[i,j] = 0\n",
    "        \n",
    "        t[:,:,n] = temp_img\n",
    "\n",
    "    return t"
   ]
  },
  {
   "cell_type": "code",
   "execution_count": 15,
   "metadata": {
    "collapsed": true
   },
   "outputs": [],
   "source": [
    "class my_train_gen(object):\n",
    "    def __init__(self, Xs):\n",
    "        self.Xs = Xs\n",
    "\n",
    "    def __iter__(self):\n",
    "        return self\n",
    "\n",
    "    # Python 3 compatibility\n",
    "    def __next__(self):\n",
    "        return self.next()\n",
    "\n",
    "    def next(self):\n",
    "        try:\n",
    "            batch_x,batch_y = next(self.Xs)\n",
    "            t = np.zeros((len(batch_y),batch_y[0].shape[0],batch_y[0].shape[1],41),dtype = 'float32')\n",
    "            for index,img in enumerate(batch_y):\n",
    "                seg_map = image_map(img,classes)\n",
    "                t[index,:,:,:] = seg_map\n",
    "            return (batch_x, t)\n",
    "        except Exception:\n",
    "            raise StopIteration()"
   ]
  },
  {
   "cell_type": "markdown",
   "metadata": {},
   "source": [
    "### Despription: Run Model\n",
    "#### Task 1c\n",
    "> Simplified Version of Segnet\n",
    "\n",
    "> Description: Has 4 encoding and 4 corresponding decoding layers and a softmax layer at the end.\n"
   ]
  },
  {
   "cell_type": "code",
   "execution_count": 16,
   "metadata": {
    "collapsed": true
   },
   "outputs": [],
   "source": [
    "model = Sequential()\n",
    "model.add(Conv2D(32,(3,3),padding = 'same',input_shape=(input_Shape[0],input_Shape[1],3)))\n",
    "model.add(BatchNormalization())\n",
    "model.add(Activation('relu'))\n",
    "model.add(MaxPooling2D((2,2)))\n",
    "model.add(Conv2D(64,(3,3),padding = 'same'))\n",
    "model.add(BatchNormalization())\n",
    "model.add(Activation('relu'))\n",
    "model.add(MaxPooling2D((2,2),padding = 'same'))\n",
    "model.add(Conv2D(128,(3,3),padding = 'same'))\n",
    "model.add(BatchNormalization())\n",
    "model.add(Activation('relu'))\n",
    "\n",
    "model.add(Conv2D(128,(3,3),padding = 'same'))\n",
    "model.add(BatchNormalization())\n",
    "model.add(Activation('relu'))\n",
    "model.add(UpSampling2D((2,2)))\n",
    "model.add(Conv2D(64,(3,3),padding = 'same'))\n",
    "model.add(BatchNormalization())\n",
    "model.add(Activation('relu'))\n",
    "model.add(UpSampling2D((2,2)))\n",
    "model.add(Conv2D(32,(3,3),padding = 'same'))\n",
    "model.add(BatchNormalization())\n",
    "model.add(Activation('relu'))\n",
    "\n",
    "model.add(Conv2D(num_classes,(3,3),padding = 'valid'))\n",
    "model.add(BatchNormalization())\n",
    "model.add(Activation('softmax'))"
   ]
  },
  {
   "cell_type": "code",
   "execution_count": 17,
   "metadata": {},
   "outputs": [
    {
     "name": "stdout",
     "output_type": "stream",
     "text": [
      "_________________________________________________________________\n",
      "Layer (type)                 Output Shape              Param #   \n",
      "=================================================================\n",
      "conv2d_1 (Conv2D)            (None, 150, 150, 32)      896       \n",
      "_________________________________________________________________\n",
      "batch_normalization_1 (Batch (None, 150, 150, 32)      128       \n",
      "_________________________________________________________________\n",
      "activation_1 (Activation)    (None, 150, 150, 32)      0         \n",
      "_________________________________________________________________\n",
      "max_pooling2d_1 (MaxPooling2 (None, 75, 75, 32)        0         \n",
      "_________________________________________________________________\n",
      "conv2d_2 (Conv2D)            (None, 75, 75, 64)        18496     \n",
      "_________________________________________________________________\n",
      "batch_normalization_2 (Batch (None, 75, 75, 64)        256       \n",
      "_________________________________________________________________\n",
      "activation_2 (Activation)    (None, 75, 75, 64)        0         \n",
      "_________________________________________________________________\n",
      "max_pooling2d_2 (MaxPooling2 (None, 38, 38, 64)        0         \n",
      "_________________________________________________________________\n",
      "conv2d_3 (Conv2D)            (None, 38, 38, 128)       73856     \n",
      "_________________________________________________________________\n",
      "batch_normalization_3 (Batch (None, 38, 38, 128)       512       \n",
      "_________________________________________________________________\n",
      "activation_3 (Activation)    (None, 38, 38, 128)       0         \n",
      "_________________________________________________________________\n",
      "conv2d_4 (Conv2D)            (None, 38, 38, 128)       147584    \n",
      "_________________________________________________________________\n",
      "batch_normalization_4 (Batch (None, 38, 38, 128)       512       \n",
      "_________________________________________________________________\n",
      "activation_4 (Activation)    (None, 38, 38, 128)       0         \n",
      "_________________________________________________________________\n",
      "up_sampling2d_1 (UpSampling2 (None, 76, 76, 128)       0         \n",
      "_________________________________________________________________\n",
      "conv2d_5 (Conv2D)            (None, 76, 76, 64)        73792     \n",
      "_________________________________________________________________\n",
      "batch_normalization_5 (Batch (None, 76, 76, 64)        256       \n",
      "_________________________________________________________________\n",
      "activation_5 (Activation)    (None, 76, 76, 64)        0         \n",
      "_________________________________________________________________\n",
      "up_sampling2d_2 (UpSampling2 (None, 152, 152, 64)      0         \n",
      "_________________________________________________________________\n",
      "conv2d_6 (Conv2D)            (None, 152, 152, 32)      18464     \n",
      "_________________________________________________________________\n",
      "batch_normalization_6 (Batch (None, 152, 152, 32)      128       \n",
      "_________________________________________________________________\n",
      "activation_6 (Activation)    (None, 152, 152, 32)      0         \n",
      "_________________________________________________________________\n",
      "conv2d_7 (Conv2D)            (None, 150, 150, 41)      11849     \n",
      "_________________________________________________________________\n",
      "batch_normalization_7 (Batch (None, 150, 150, 41)      164       \n",
      "_________________________________________________________________\n",
      "activation_7 (Activation)    (None, 150, 150, 41)      0         \n",
      "=================================================================\n",
      "Total params: 346,893\n",
      "Trainable params: 345,915\n",
      "Non-trainable params: 978\n",
      "_________________________________________________________________\n"
     ]
    }
   ],
   "source": [
    "model.compile(optimizer = 'adadelta',loss = 'categorical_crossentropy')\n",
    "model.summary()"
   ]
  },
  {
   "cell_type": "code",
   "execution_count": 21,
   "metadata": {},
   "outputs": [
    {
     "name": "stdout",
     "output_type": "stream",
     "text": [
      "Epoch 1/1\n",
      "10/10 [==============================] - 437s 44s/step - loss: 0.0000e+00 - val_loss: 0.0000e+00\n"
     ]
    }
   ],
   "source": [
    "auto_encoder_train = model.fit_generator(my_train_gen(train_gen), steps_per_epoch=10, epochs=epochs,validation_data = my_train_gen(test_gen),validation_steps = 10)"
   ]
  },
  {
   "cell_type": "code",
   "execution_count": 23,
   "metadata": {},
   "outputs": [
    {
     "data": {
      "image/png": "[encoded data removed]",
      "text/plain": [
       "<Figure size 432x288 with 1 Axes>"
      ]
     },
     "metadata": {},
     "output_type": "display_data"
    },
    {
     "data": {
      "image/png": "[encoded data removed]",
      "text/plain": [
       "<Figure size 432x288 with 1 Axes>"
      ]
     },
     "metadata": {},
     "output_type": "display_data"
    }
   ],
   "source": [
    "loss = auto_encoder_train.history['loss']\n",
    "val_loss = auto_encoder_train.history['val_loss']\n",
    "plt.figure()\n",
    "plt.plot(epochs, loss, 'bo', label='Training loss')\n",
    "plt.plot(epochs, val_loss, 'b', label='Validation loss')\n",
    "plt.title('Training and validation loss')\n",
    "plt.legend()\n",
    "plt.show()"
   ]
  },
  {
   "cell_type": "markdown",
   "metadata": {},
   "source": [
    "### Resulting Images (Masks)\n",
    "\n"
   ]
  },
  {
   "cell_type": "code",
   "execution_count": null,
   "metadata": {
    "collapsed": true
   },
   "outputs": [],
   "source": [
    "# Evaluate your model by predicting output segmentation maps with fine-tuned model\n",
    "# Show results\n",
    "# Report Accuracy"
   ]
  },
  {
   "cell_type": "markdown",
   "metadata": {},
   "source": [
    "### Report Accuracy"
   ]
  },
  {
   "cell_type": "code",
   "execution_count": null,
   "metadata": {
    "collapsed": true
   },
   "outputs": [],
   "source": []
  },
  {
   "cell_type": "markdown",
   "metadata": {},
   "source": [
    "# Summary of the paper"
   ]
  },
  {
   "cell_type": "markdown",
   "metadata": {},
   "source": [
    "SEGNET\n",
    "\n",
    "Main focus on how it up samples low resolution feature maps.\n",
    "Non linear upsampling\n",
    "Designed for road scene understanding application. \n",
    "Corresponding decoder for every encoder - Does up sampling based on the indices received from encoding max pooling layers. This approach is useful because “it improves boundary delineation” and “it reduces the number of parameters enabling end to end training”.\n",
    "\n",
    "VGG16 vs SEGNET :\n",
    "Both use the same approach (upsampling based on indices) for decoding but the main difference is in the decoding part. VGG16 has fully connected layers which increases the number of parameters to be learned. SEGNET disregards the fully connected layers at the deepest encoding output.This reduces the number of parameters. As a result the Segnet encoder network is significantly smaller and easier to train than many other recent architectures.\n",
    "Segnet uses the SGD optimizer.\n",
    "\n",
    "Architecture: \n",
    "13 encoding layers (similar to VGG16) and 13 decoding layers\n",
    "\n",
    "Each encoder works as: \n",
    "Convolution with trainable filters\n",
    "Batch normalization\n",
    "ReLu\n",
    "Max Pooling on 2x2 window and stride 2\n",
    "Subsampling by a factor of 2\n",
    "Store the indices of max pooling\n",
    "\n",
    "Each decoder works as:\n",
    "Up samples using the memorized indices\n",
    "Convolution with trainable filters\n",
    "Batch normalization\n",
    "\n",
    "\n",
    "The final decoder output is fed to a multiclass softmax classifier to produce class probabilities for each pixel independently.\n",
    "The high dimensional feature representation at the output of the final decoder is fed to a trainable softmax classifier. This soft-max classifies each pixel independently. The output of the softmax classifier is a K channel image of probabilities where K is the number of classes. The predicted segmentation corresponds to the class with maximum probability at each pixel.\n"
   ]
  },
  {
   "cell_type": "code",
   "execution_count": null,
   "metadata": {
    "collapsed": true
   },
   "outputs": [],
   "source": []
  }
 ],
 "metadata": {
  "kernelspec": {
   "display_name": "Python 3",
   "language": "python",
   "name": "python3"
  },
  "language_info": {
   "codemirror_mode": {
    "name": "ipython",
    "version": 3
   },
   "file_extension": ".py",
   "mimetype": "text/x-python",
   "name": "python",
   "nbconvert_exporter": "python",
   "pygments_lexer": "ipython3",
   "version": "3.5.4"
  }
 },
 "nbformat": 4,
 "nbformat_minor": 2
}
