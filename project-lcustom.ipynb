{
 "cells": [
  {
   "cell_type": "code",
   "execution_count": 27,
   "metadata": {},
   "outputs": [],
   "source": [
    "import os \n",
    "import numpy as np\n",
    "import pandas as pd\n",
    "from matplotlib import pyplot as plt\n",
    "import cv2\n",
    "import tensorflow as tf\n",
    "from keras.models import Sequential, Model\n",
    "from keras.engine.topology import Input\n",
    "from keras.layers.core import Dense, Dropout, Activation,Reshape\n",
    "from keras.layers import Conv1D, Conv2D, Flatten, MaxPooling2D, UpSampling2D, ZeroPadding2D\n",
    "from keras.layers.normalization import BatchNormalization\n",
    "from keras.utils import np_utils\n",
    "from keras.utils import plot_model\n",
    "from keras import backend as K\n",
    "from keras.optimizers import Adam\n",
    "import keras\n",
    "from PIL import Image\n",
    "from sklearn.model_selection import train_test_split\n",
    "from keras.layers.core import Lambda\n",
    "from IPython.display import SVG\n",
    "from keras.utils.vis_utils import model_to_dot\n",
    "from keras.callbacks import ModelCheckpoint, EarlyStopping,TensorBoard,CSVLogger,ReduceLROnPlateau"
   ]
  },
  {
   "cell_type": "markdown",
   "metadata": {},
   "source": [
    "## Parameters"
   ]
  },
  {
   "cell_type": "code",
   "execution_count": 24,
   "metadata": {
    "collapsed": true
   },
   "outputs": [],
   "source": [
    "batch = 3\n",
    "epochs = 1;\n",
    "num_classes = 41;\n",
    "input_Shape = (150,150)\n",
    "num_train_samples = 800\n",
    "num_test_samples = 200\n",
    "model_name = 'custom_skip'\n",
    "# creates folder\n",
    "if not os.path.exists('./'+model_name):\n",
    "    os.mkdir(model_name)"
   ]
  },
  {
   "cell_type": "code",
   "execution_count": 3,
   "metadata": {},
   "outputs": [
    {
     "data": {
      "text/plain": [
       "['gt',\n",
       " 'images',\n",
       " 'labels_categorical',\n",
       " 'label_colors.csv',\n",
       " 'long_skip',\n",
       " 'long_skipmy_weights.h5',\n",
       " 'long_skip_model.png',\n",
       " 'short-long_skip',\n",
       " 'short-long_skipmy_weights.h5',\n",
       " 'short-long_skip_model.png',\n",
       " 'short_skip',\n",
       " 'short_skipmy_weights.h5',\n",
       " 'short_skip_model.png']"
      ]
     },
     "execution_count": 3,
     "metadata": {},
     "output_type": "execute_result"
    }
   ],
   "source": [
    "os.listdir()\n",
    "os.chdir('./Dataset/Segmentation/')\n",
    "os.listdir()"
   ]
  },
  {
   "cell_type": "markdown",
   "metadata": {},
   "source": [
    "## Load Filenames"
   ]
  },
  {
   "cell_type": "code",
   "execution_count": 4,
   "metadata": {
    "collapsed": true
   },
   "outputs": [],
   "source": [
    "dataset = []\n",
    "folder = \"./images/\"\n",
    "files = [f for f in os.listdir(folder) if os.path.isfile(os.path.join(folder, f))]\n",
    "for file in files:\n",
    "    dataset.append(file)\n"
   ]
  },
  {
   "cell_type": "code",
   "execution_count": 5,
   "metadata": {
    "collapsed": true
   },
   "outputs": [],
   "source": [
    "dataset_labels = []\n",
    "folder = \"./labels_categorical/\"\n",
    "files = [f for f in os.listdir(folder) if os.path.isfile(os.path.join(folder, f))]\n",
    "for file in files:\n",
    "    dataset_labels.append(file)"
   ]
  },
  {
   "cell_type": "markdown",
   "metadata": {},
   "source": [
    "## Split into Train and Test"
   ]
  },
  {
   "cell_type": "code",
   "execution_count": 6,
   "metadata": {
    "collapsed": true
   },
   "outputs": [],
   "source": [
    "x_train,x_test,y_train,y_test = train_test_split(dataset,dataset_labels,test_size = 0.2)"
   ]
  },
  {
   "cell_type": "markdown",
   "metadata": {},
   "source": [
    "## Load Data"
   ]
  },
  {
   "cell_type": "code",
   "execution_count": 7,
   "metadata": {
    "collapsed": true
   },
   "outputs": [],
   "source": [
    "X_train = np.zeros((num_train_samples,input_Shape[0],input_Shape[1], 3 ))\n",
    "for index,item in enumerate(x_train): \n",
    "    path = \"./images/\" + item\n",
    "    img = plt.imread(path)\n",
    "    new_img = cv2.resize(img,(int(input_Shape[0]),int(input_Shape[1])))\n",
    "    array = np.array(new_img)\n",
    "    X_train[index] = array.reshape((input_Shape[0],input_Shape[1],3)) \n",
    "    \n",
    "    \n",
    "X_test = np.zeros((num_test_samples,input_Shape[0],input_Shape[1], 3 ))\n",
    "for index,item in enumerate(x_test):\n",
    "    path = \"./images/\" + item\n",
    "    img = plt.imread(path)\n",
    "    new_img = cv2.resize(img,(int(input_Shape[0]),int(input_Shape[1])))\n",
    "    array = np.array(new_img)\n",
    "    X_test[index] = array.reshape((input_Shape[0],input_Shape[1],3))\n"
   ]
  },
  {
   "cell_type": "code",
   "execution_count": 8,
   "metadata": {
    "collapsed": true
   },
   "outputs": [],
   "source": [
    "Y_train = np.zeros((num_train_samples,input_Shape[0],input_Shape[1], num_classes ))\n",
    "for index,item in enumerate(y_train): \n",
    "    path = \"./labels_categorical/\" + item\n",
    "    Y_train[index] = np.load(path)\n",
    "    \n",
    "Y_test = np.zeros((num_test_samples,input_Shape[0],input_Shape[1], num_classes ))\n",
    "for index,item in enumerate(y_test): \n",
    "    path = \"./labels_categorical/\" + item\n",
    "    Y_test[index] = np.load(path)"
   ]
  },
  {
   "cell_type": "code",
   "execution_count": 9,
   "metadata": {
    "collapsed": true
   },
   "outputs": [],
   "source": [
    "classes = pd.read_csv('./label_colors.csv',sep='\\t',header=None)\n",
    "classes['class'] = classes.index.values.astype(int)\n",
    "classes.columns = ['rgb','name','class']"
   ]
  },
  {
   "cell_type": "code",
   "execution_count": 10,
   "metadata": {
    "collapsed": true
   },
   "outputs": [],
   "source": [
    "def image_map(im) :\n",
    "    \n",
    "    t = np.zeros((input_Shape[0],input_Shape[1],num_classes),dtype = int)\n",
    "    for n in range(num_classes) :\n",
    "        for i in range(im.shape[0]):\n",
    "            for j in range(im.shape[1]):\n",
    "            \n",
    "                color = classes['rgb'][n].split(' ')\n",
    "                color = [int(i) for i in color]\n",
    "                \n",
    "                if ( im[i,j,0] == color[0] and im[i,j,1] == color[1] and im[i,j,2] == color[2] ):\n",
    "                    t[i,j,n] = 1\n",
    "\n",
    "    return t"
   ]
  },
  {
   "cell_type": "code",
   "execution_count": 11,
   "metadata": {
    "collapsed": true
   },
   "outputs": [],
   "source": [
    "def map_img(segmap) :\n",
    "    t = np.zeros((input_Shape[0],input_Shape[1],3),dtype = int)\n",
    "    for i in range(input_Shape[0]) :\n",
    "        for j in range(input_Shape[1]):\n",
    "            a = segmap[i,j,:].argmax()\n",
    "            color = classes['rgb'][a].split(' ')\n",
    "            t[i,j,0] = int(color[0]) \n",
    "            t[i,j,1] = int(color[1])\n",
    "            t[i,j,2] = int(color[2])\n",
    "\n",
    "    return t"
   ]
  },
  {
   "cell_type": "code",
   "execution_count": null,
   "metadata": {
    "collapsed": true
   },
   "outputs": [],
   "source": [
    "# for index,item in enumerate(dataset):\n",
    "#   im = labels[index]\n",
    "#   np.save(item,image_map(im))"
   ]
  },
  {
   "cell_type": "code",
   "execution_count": 24,
   "metadata": {
    "collapsed": true
   },
   "outputs": [],
   "source": [
    "def jaccard_distance(y_true, y_pred, smooth=100):\n",
    "    print (y_true.shape)\n",
    "    print (y_pred.shape)\n",
    "\n",
    "    intersection = K.sum(K.abs(y_true * y_pred), axis=-1)\n",
    "    sum_ = K.sum(K.abs(y_true) + K.abs(y_pred), axis=-1)\n",
    "    jac = (intersection + smooth) / (sum_ - intersection + smooth)\n",
    "    return (1 - jac) * smooth"
   ]
  },
  {
   "cell_type": "code",
   "execution_count": 19,
   "metadata": {
    "collapsed": true
   },
   "outputs": [],
   "source": [
    "input_img = Input(shape=(input_Shape[0],input_Shape[1],3))\n",
    "\n",
    "\n",
    "Input_layer = Conv2D(64,(3,3),padding = 'same', name = 'conv1',strides = 1)(input_img)\n",
    "layer_1 = Conv2D(64,(3,3),padding = 'same', name = 'conv2',strides = 1)(Input_layer)\n",
    "layer_1 = BatchNormalization(name = 'BN_1')(layer_1)\n",
    "layer_1 = Activation('relu')(layer_1)\n",
    "\n",
    "shortconconv_1 = Conv2D(64,(1,1),padding = 'same', name = 'shortconconv_1',strides = 1)(Input_layer)\n",
    "\n",
    "added_1 = keras.layers.Add()([shortconconv_1 , layer_1]) \n",
    "shortconconv_2 = Conv2D(128,(1,1),padding = 'same', name = 'shortconconv_2',strides = 1)(added_1)\n",
    "shortconconv_2 = MaxPooling2D((2, 2), padding='same', name = 'pool_1', strides = 2)(shortconconv_2)\n",
    "\n",
    "\n",
    "layer_2 = Conv2D(128,(3,3),padding = 'same', name = 'maxconv_1',strides = 2)(layer_1)\n",
    "layer_2 = BatchNormalization(name = 'BN_2')(layer_2)\n",
    "layer_2 = Activation('relu')(layer_2)\n",
    "layer_2 = Conv2D(128,(3,3),padding = 'same', name = 'conv_3',strides = 1)(layer_2)\n",
    "\n",
    "added_2 = keras.layers.Add()([shortconconv_2, layer_2]) \n",
    "\n",
    "shortconconv_3 = Conv2D(256,(1,1),padding = 'same', name = 'shortconconv_3',strides = 1)(added_2)\n",
    "shortconconv_3 = MaxPooling2D((2, 2), padding='same', name = 'pool_2', strides = 2)(shortconconv_3)\n",
    "\n",
    "layer_3 = BatchNormalization(name = 'BN_3')(added_2)\n",
    "layer_3 = Activation('relu')(layer_3)\n",
    "layer_3 = Conv2D(256,(3,3),padding = 'same', name = 'maxconv_2',strides = 2)(layer_3)\n",
    "layer_3 = BatchNormalization(name = 'BN_4')(layer_3)\n",
    "layer_3 = Activation('relu')(layer_3)\n",
    "layer_3 = Conv2D(256,(3,3),padding = 'same', name = 'conv_4',strides = 1)(layer_3)\n",
    "\n",
    "added_3 = keras.layers.Add()([shortconconv_3, layer_3]) \n",
    "shortconconv_4 = Conv2D(512,(1,1),padding = 'same', name = 'shortconconv_4',strides = 1)(added_3)\n",
    "shortconconv_4 = MaxPooling2D((2, 2), padding='same', name = 'pool_3', strides = 2)(shortconconv_4)\n",
    "\n",
    "bridge = BatchNormalization(name = 'BN_5')(added_3)\n",
    "bridge = Activation('relu')(bridge)\n",
    "bridge = Conv2D(512,(3,3),padding = 'same', name = 'maxconv_3',strides = 2)(bridge)\n",
    "bridge = BatchNormalization(name = 'BN_6')(bridge)\n",
    "bridge = Activation('relu')(bridge)\n",
    "bridge = Conv2D(512,(3,3),padding = 'same', name = 'conv_5',strides = 1)(bridge)\n",
    "\n",
    "\n",
    "added_4 = keras.layers.Add()([shortconconv_4, bridge]) \n",
    "\n",
    "# DECODER\n",
    "\n",
    "upsample_1 = UpSampling2D((2, 2),name = 'upsample_1')(added_4)\n",
    "\n",
    "concat_1 = keras.layers.concatenate([added_3,upsample_1],axis = -1)\n",
    "shortconconv_5 = Conv2D(256,(1,1),padding = 'same', name = 'shortconconv_5',strides = 1)(concat_1)\n",
    "\n",
    "decoder_layer_1 = BatchNormalization(name = 'BN_7')(concat_1)\n",
    "decoder_layer_1  = Activation('relu')(decoder_layer_1)\n",
    "decoder_layer_1 = Conv2D(256,(3,3),padding = 'same', name = 'deconv_1',strides = 1)(decoder_layer_1)\n",
    "decoder_layer_1 = BatchNormalization(name = 'BN_8')(decoder_layer_1)\n",
    "decoder_layer_1  = Activation('relu')(decoder_layer_1)\n",
    "decoder_layer_1 = Conv2D(256,(3,3),padding = 'same', name = 'deconv_2',strides = 1)(decoder_layer_1)\n",
    "\n",
    "added_5 = keras.layers.Add()([shortconconv_5, decoder_layer_1]) \n",
    "upsample_2 = UpSampling2D((2, 2),name = 'upsample_2')(added_5)\n",
    "\n",
    "added_2_pad = Lambda(lambda x: tf.pad(x,paddings=tf.constant([[0, 0,], [1, 0,],[1,0,],[0,0]]) ,mode=\"REFLECT\",name='pad_1'))(added_2)\n",
    "\n",
    "concat_2 = keras.layers.concatenate([added_2_pad,upsample_2],axis = -1)\n",
    "shortconconv_6 = Conv2D(128,(1,1),padding = 'same', name = 'shortconconv_6',strides = 1)(concat_2)\n",
    "\n",
    "decoder_layer_2 = BatchNormalization(name = 'BN_9')(concat_2)\n",
    "decoder_layer_2  = Activation('relu')(decoder_layer_2)\n",
    "decoder_layer_2 = Conv2D(128,(3,3),padding = 'same', name = 'deconv_3',strides = 1)(decoder_layer_2)\n",
    "decoder_layer_2 = BatchNormalization(name = 'BN_10')(decoder_layer_2)\n",
    "decoder_layer_2  = Activation('relu')(decoder_layer_2)\n",
    "decoder_layer_2 = Conv2D(128,(3,3),padding = 'same', name = 'deconv_4',strides = 1)(decoder_layer_2)\n",
    "\n",
    "\n",
    "added_6 = keras.layers.Add()([shortconconv_6, decoder_layer_2]) \n",
    "upsample_3 = UpSampling2D((2, 2),name = 'upsample_3')(added_6)\n",
    "\n",
    "added_1_pad = Lambda(lambda x: tf.pad(x,paddings=tf.constant([[0, 0,], [1, 1,],[1,1,],[0,0]]) ,mode=\"REFLECT\",name='pad_1'))(added_1)\n",
    "\n",
    "concat_3 = keras.layers.concatenate([added_1_pad,upsample_3],axis = -1)\n",
    "shortconconv_6 = Conv2D(64,(3,3),padding = 'valid', name = 'shortconconv_7',strides = 1)(concat_3)\n",
    "\n",
    "decoder_layer_3 = BatchNormalization(name = 'BN_11')(concat_3)\n",
    "decoder_layer_3  = Activation('relu')(decoder_layer_3)\n",
    "decoder_layer_3 = Conv2D(64,(3,3),padding = 'same', name = 'deconv_5',strides = 1)(decoder_layer_3)\n",
    "decoder_layer_3 = BatchNormalization(name = 'BN_12')(decoder_layer_3)\n",
    "decoder_layer_3  = Activation('relu')(decoder_layer_3)\n",
    "decoder_layer_3 = Conv2D(64,(3,3),padding = 'valid', name = 'deconv_6',strides = 1)(decoder_layer_3)\n",
    "\n",
    "added_7 = keras.layers.Add()([shortconconv_6, decoder_layer_3]) \n",
    "\n",
    "output = Conv2D(num_classes,(1,1),padding = 'valid', name = 'deconv_7',strides = 1)(added_7)\n",
    "output = Activation('softmax')(output)\n",
    "\n",
    "autoencoder = Model(input_img, output)"
   ]
  },
  {
   "cell_type": "code",
   "execution_count": null,
   "metadata": {
    "collapsed": true
   },
   "outputs": [],
   "source": [
    "input_img = Input(shape=(input_Shape[0],input_Shape[1],3))\n",
    "\n",
    "\n",
    "Input_layer = Conv2D(64,(3,3),padding = 'same', name = 'conv1',strides = 1)(input_img)\n",
    "layer_1 = Conv2D(64,(3,3),padding = 'same', name = 'conv2',strides = 1)(Input_layer)\n",
    "layer_1 = BatchNormalization(name = 'BN_1')(layer_1)\n",
    "layer_1 = Activation('relu')(layer_1)\n",
    "\n",
    "shortconconv_1 = Conv2D(64,(1,1),padding = 'same', name = 'shortconconv_1',strides = 1)(Input_layer)\n",
    "\n",
    "added_1 = keras.layers.Add()([shortconconv_1 , layer_1]) \n",
    "shortconconv_2 = Conv2D(128,(1,1),padding = 'same', name = 'shortconconv_2',strides = 1)(added_1)\n",
    "shortconconv_2 = MaxPooling2D((2, 2), padding='same', name = 'pool_1', strides = 2)(shortconconv_2)\n",
    "\n",
    "\n",
    "# layer_2 = Conv2D(128,(3,3),padding = 'same', name = 'maxconv_1',strides = 2)(layer_1)\n",
    "layer_2 = MaxPooling2D((2, 2), padding='same', name = 'maxpool_1', strides = 2)(layer_1)\n",
    "layer_2 = BatchNormalization(name = 'BN_2')(layer_2)\n",
    "layer_2 = Activation('relu')(layer_2)\n",
    "layer_2 = Conv2D(128,(3,3),padding = 'same', name = 'conv_3',strides = 1)(layer_2)\n",
    "\n",
    "added_2 = keras.layers.Add()([shortconconv_2, layer_2]) \n",
    "\n",
    "shortconconv_3 = Conv2D(256,(1,1),padding = 'same', name = 'shortconconv_3',strides = 1)(added_2)\n",
    "shortconconv_3 = MaxPooling2D((2, 2), padding='same', name = 'pool_2', strides = 2)(shortconconv_3)\n",
    "\n",
    "layer_3 = BatchNormalization(name = 'BN_3')(added_2)\n",
    "layer_3 = Activation('relu')(layer_3)\n",
    "# layer_3 = Conv2D(256,(3,3),padding = 'same', name = 'maxconv_2',strides = 2)(layer_3)\n",
    "layer_3 = MaxPooling2D((2, 2), padding='same', name = 'maxpool_2', strides = 2)(layer_3)\n",
    "layer_3 = BatchNormalization(name = 'BN_4')(layer_3)\n",
    "layer_3 = Activation('relu')(layer_3)\n",
    "layer_3 = Conv2D(256,(3,3),padding = 'same', name = 'conv_4',strides = 1)(layer_3)\n",
    "\n",
    "added_3 = keras.layers.Add()([shortconconv_3, layer_3]) \n",
    "shortconconv_4 = Conv2D(512,(1,1),padding = 'same', name = 'shortconconv_4',strides = 1)(added_3)\n",
    "shortconconv_4 = MaxPooling2D((2, 2), padding='same', name = 'pool_3', strides = 2)(shortconconv_4)\n",
    "\n",
    "bridge = BatchNormalization(name = 'BN_5')(added_3)\n",
    "bridge = Activation('relu')(bridge)\n",
    "# bridge = Conv2D(512,(3,3),padding = 'same', name = 'maxconv_3',strides = 2)(bridge)\n",
    "bridge = MaxPooling2D((2, 2), padding='same', name = 'maxpool_3', strides = 2)(bridge)\n",
    "bridge = BatchNormalization(name = 'BN_6')(bridge)\n",
    "bridge = Activation('relu')(bridge)\n",
    "bridge = Conv2D(512,(3,3),padding = 'same', name = 'conv_5',strides = 1)(bridge)\n",
    "\n",
    "\n",
    "added_4 = keras.layers.Add()([shortconconv_4, bridge]) \n",
    "\n",
    "# DECODER\n",
    "\n",
    "upsample_1 = UpSampling2D((2, 2),name = 'upsample_1')(added_4)\n",
    "\n",
    "concat_1 = keras.layers.concatenate([added_3,upsample_1],axis = -1)\n",
    "shortconconv_5 = Conv2D(256,(1,1),padding = 'same', name = 'shortconconv_5',strides = 1)(concat_1)\n",
    "\n",
    "decoder_layer_1 = BatchNormalization(name = 'BN_7')(concat_1)\n",
    "decoder_layer_1  = Activation('relu')(decoder_layer_1)\n",
    "decoder_layer_1 = Conv2D(256,(3,3),padding = 'same', name = 'deconv_1',strides = 1)(decoder_layer_1)\n",
    "decoder_layer_1 = BatchNormalization(name = 'BN_8')(decoder_layer_1)\n",
    "decoder_layer_1  = Activation('relu')(decoder_layer_1)\n",
    "decoder_layer_1 = Conv2D(256,(3,3),padding = 'same', name = 'deconv_2',strides = 1)(decoder_layer_1)\n",
    "\n",
    "added_5 = keras.layers.Add()([shortconconv_5, decoder_layer_1]) \n",
    "upsample_2 = UpSampling2D((2, 2),name = 'upsample_2')(added_5)\n",
    "\n",
    "added_2_pad = Lambda(lambda x: tf.pad(x,paddings=tf.constant([[0, 0,], [1, 0,],[1,0,],[0,0]]) ,mode=\"REFLECT\",name='pad_1'))(added_2)\n",
    "\n",
    "concat_2 = keras.layers.concatenate([added_2_pad,upsample_2],axis = -1)\n",
    "shortconconv_6 = Conv2D(128,(1,1),padding = 'same', name = 'shortconconv_6',strides = 1)(concat_2)\n",
    "\n",
    "decoder_layer_2 = BatchNormalization(name = 'BN_9')(concat_2)\n",
    "decoder_layer_2  = Activation('relu')(decoder_layer_2)\n",
    "decoder_layer_2 = Conv2D(128,(3,3),padding = 'same', name = 'deconv_3',strides = 1)(decoder_layer_2)\n",
    "decoder_layer_2 = BatchNormalization(name = 'BN_10')(decoder_layer_2)\n",
    "decoder_layer_2  = Activation('relu')(decoder_layer_2)\n",
    "decoder_layer_2 = Conv2D(128,(3,3),padding = 'same', name = 'deconv_4',strides = 1)(decoder_layer_2)\n",
    "\n",
    "\n",
    "added_6 = keras.layers.Add()([shortconconv_6, decoder_layer_2]) \n",
    "upsample_3 = UpSampling2D((2, 2),name = 'upsample_3')(added_6)\n",
    "\n",
    "added_1_pad = Lambda(lambda x: tf.pad(x,paddings=tf.constant([[0, 0,], [1, 1,],[1,1,],[0,0]]) ,mode=\"REFLECT\",name='pad_1'))(added_1)\n",
    "\n",
    "concat_3 = keras.layers.concatenate([added_1_pad,upsample_3],axis = -1)\n",
    "shortconconv_6 = Conv2D(64,(3,3),padding = 'valid', name = 'shortconconv_7',strides = 1)(concat_3)\n",
    "\n",
    "decoder_layer_3 = BatchNormalization(name = 'BN_11')(concat_3)\n",
    "decoder_layer_3  = Activation('relu')(decoder_layer_3)\n",
    "decoder_layer_3 = Conv2D(64,(3,3),padding = 'same', name = 'deconv_5',strides = 1)(decoder_layer_3)\n",
    "decoder_layer_3 = BatchNormalization(name = 'BN_12')(decoder_layer_3)\n",
    "decoder_layer_3  = Activation('relu')(decoder_layer_3)\n",
    "decoder_layer_3 = Conv2D(64,(3,3),padding = 'valid', name = 'deconv_6',strides = 1)(decoder_layer_3)\n",
    "\n",
    "added_7 = keras.layers.Add()([shortconconv_6, decoder_layer_3]) \n",
    "\n",
    "output = Conv2D(num_classes,(1,1),padding = 'valid', name = 'deconv_7',strides = 1)(added_7)\n",
    "output = Activation('softmax')(output)\n",
    "\n",
    "autoencoder = Model(input_img, output)"
   ]
  },
  {
   "cell_type": "code",
   "execution_count": 20,
   "metadata": {
    "collapsed": true
   },
   "outputs": [],
   "source": [
    "# Plot model\n",
    "plot_model(autoencoder, to_file= model_name + '_model.png',show_shapes=True)"
   ]
  },
  {
   "cell_type": "code",
   "execution_count": 32,
   "metadata": {
    "collapsed": true
   },
   "outputs": [],
   "source": [
    "# adam = Adam(lr = 0.01)"
   ]
  },
  {
   "cell_type": "code",
   "execution_count": 36,
   "metadata": {},
   "outputs": [
    {
     "name": "stdout",
     "output_type": "stream",
     "text": [
      "__________________________________________________________________________________________________\n",
      "Layer (type)                    Output Shape         Param #     Connected to                     \n",
      "==================================================================================================\n",
      "input_3 (InputLayer)            (None, 150, 150, 3)  0                                            \n",
      "__________________________________________________________________________________________________\n",
      "conv1 (Conv2D)                  (None, 150, 150, 64) 1792        input_3[0][0]                    \n",
      "__________________________________________________________________________________________________\n",
      "conv2 (Conv2D)                  (None, 150, 150, 64) 36928       conv1[0][0]                      \n",
      "__________________________________________________________________________________________________\n",
      "BN_1 (BatchNormalization)       (None, 150, 150, 64) 256         conv2[0][0]                      \n",
      "__________________________________________________________________________________________________\n",
      "activation_27 (Activation)      (None, 150, 150, 64) 0           BN_1[0][0]                       \n",
      "__________________________________________________________________________________________________\n",
      "shortconconv_1 (Conv2D)         (None, 150, 150, 64) 4160        conv1[0][0]                      \n",
      "__________________________________________________________________________________________________\n",
      "maxconv_1 (Conv2D)              (None, 75, 75, 128)  73856       activation_27[0][0]              \n",
      "__________________________________________________________________________________________________\n",
      "add_15 (Add)                    (None, 150, 150, 64) 0           shortconconv_1[0][0]             \n",
      "                                                                 activation_27[0][0]              \n",
      "__________________________________________________________________________________________________\n",
      "BN_2 (BatchNormalization)       (None, 75, 75, 128)  512         maxconv_1[0][0]                  \n",
      "__________________________________________________________________________________________________\n",
      "shortconconv_2 (Conv2D)         (None, 150, 150, 128 8320        add_15[0][0]                     \n",
      "__________________________________________________________________________________________________\n",
      "activation_28 (Activation)      (None, 75, 75, 128)  0           BN_2[0][0]                       \n",
      "__________________________________________________________________________________________________\n",
      "pool_1 (MaxPooling2D)           (None, 75, 75, 128)  0           shortconconv_2[0][0]             \n",
      "__________________________________________________________________________________________________\n",
      "conv_3 (Conv2D)                 (None, 75, 75, 128)  147584      activation_28[0][0]              \n",
      "__________________________________________________________________________________________________\n",
      "add_16 (Add)                    (None, 75, 75, 128)  0           pool_1[0][0]                     \n",
      "                                                                 conv_3[0][0]                     \n",
      "__________________________________________________________________________________________________\n",
      "BN_3 (BatchNormalization)       (None, 75, 75, 128)  512         add_16[0][0]                     \n",
      "__________________________________________________________________________________________________\n",
      "activation_29 (Activation)      (None, 75, 75, 128)  0           BN_3[0][0]                       \n",
      "__________________________________________________________________________________________________\n",
      "maxconv_2 (Conv2D)              (None, 38, 38, 256)  295168      activation_29[0][0]              \n",
      "__________________________________________________________________________________________________\n",
      "BN_4 (BatchNormalization)       (None, 38, 38, 256)  1024        maxconv_2[0][0]                  \n",
      "__________________________________________________________________________________________________\n",
      "shortconconv_3 (Conv2D)         (None, 75, 75, 256)  33024       add_16[0][0]                     \n",
      "__________________________________________________________________________________________________\n",
      "activation_30 (Activation)      (None, 38, 38, 256)  0           BN_4[0][0]                       \n",
      "__________________________________________________________________________________________________\n",
      "pool_2 (MaxPooling2D)           (None, 38, 38, 256)  0           shortconconv_3[0][0]             \n",
      "__________________________________________________________________________________________________\n",
      "conv_4 (Conv2D)                 (None, 38, 38, 256)  590080      activation_30[0][0]              \n",
      "__________________________________________________________________________________________________\n",
      "add_17 (Add)                    (None, 38, 38, 256)  0           pool_2[0][0]                     \n",
      "                                                                 conv_4[0][0]                     \n",
      "__________________________________________________________________________________________________\n",
      "BN_5 (BatchNormalization)       (None, 38, 38, 256)  1024        add_17[0][0]                     \n",
      "__________________________________________________________________________________________________\n",
      "activation_31 (Activation)      (None, 38, 38, 256)  0           BN_5[0][0]                       \n",
      "__________________________________________________________________________________________________\n",
      "maxconv_3 (Conv2D)              (None, 19, 19, 512)  1180160     activation_31[0][0]              \n",
      "__________________________________________________________________________________________________\n",
      "BN_6 (BatchNormalization)       (None, 19, 19, 512)  2048        maxconv_3[0][0]                  \n",
      "__________________________________________________________________________________________________\n",
      "shortconconv_4 (Conv2D)         (None, 38, 38, 512)  131584      add_17[0][0]                     \n",
      "__________________________________________________________________________________________________\n",
      "activation_32 (Activation)      (None, 19, 19, 512)  0           BN_6[0][0]                       \n",
      "__________________________________________________________________________________________________\n",
      "pool_3 (MaxPooling2D)           (None, 19, 19, 512)  0           shortconconv_4[0][0]             \n",
      "__________________________________________________________________________________________________\n",
      "conv_5 (Conv2D)                 (None, 19, 19, 512)  2359808     activation_32[0][0]              \n",
      "__________________________________________________________________________________________________\n",
      "add_18 (Add)                    (None, 19, 19, 512)  0           pool_3[0][0]                     \n",
      "                                                                 conv_5[0][0]                     \n",
      "__________________________________________________________________________________________________\n",
      "upsample_1 (UpSampling2D)       (None, 38, 38, 512)  0           add_18[0][0]                     \n",
      "__________________________________________________________________________________________________\n",
      "concatenate_7 (Concatenate)     (None, 38, 38, 768)  0           add_17[0][0]                     \n",
      "                                                                 upsample_1[0][0]                 \n",
      "__________________________________________________________________________________________________\n",
      "BN_7 (BatchNormalization)       (None, 38, 38, 768)  3072        concatenate_7[0][0]              \n",
      "__________________________________________________________________________________________________\n",
      "activation_33 (Activation)      (None, 38, 38, 768)  0           BN_7[0][0]                       \n",
      "__________________________________________________________________________________________________\n",
      "deconv_1 (Conv2D)               (None, 38, 38, 256)  1769728     activation_33[0][0]              \n",
      "__________________________________________________________________________________________________\n",
      "BN_8 (BatchNormalization)       (None, 38, 38, 256)  1024        deconv_1[0][0]                   \n",
      "__________________________________________________________________________________________________\n",
      "activation_34 (Activation)      (None, 38, 38, 256)  0           BN_8[0][0]                       \n",
      "__________________________________________________________________________________________________\n",
      "shortconconv_5 (Conv2D)         (None, 38, 38, 256)  196864      concatenate_7[0][0]              \n",
      "__________________________________________________________________________________________________\n",
      "deconv_2 (Conv2D)               (None, 38, 38, 256)  590080      activation_34[0][0]              \n",
      "__________________________________________________________________________________________________\n",
      "add_19 (Add)                    (None, 38, 38, 256)  0           shortconconv_5[0][0]             \n",
      "                                                                 deconv_2[0][0]                   \n",
      "__________________________________________________________________________________________________\n",
      "lambda_5 (Lambda)               (None, 76, 76, 128)  0           add_16[0][0]                     \n",
      "__________________________________________________________________________________________________\n",
      "upsample_2 (UpSampling2D)       (None, 76, 76, 256)  0           add_19[0][0]                     \n",
      "__________________________________________________________________________________________________\n",
      "concatenate_8 (Concatenate)     (None, 76, 76, 384)  0           lambda_5[0][0]                   \n",
      "                                                                 upsample_2[0][0]                 \n",
      "__________________________________________________________________________________________________\n",
      "BN_9 (BatchNormalization)       (None, 76, 76, 384)  1536        concatenate_8[0][0]              \n",
      "__________________________________________________________________________________________________\n",
      "activation_35 (Activation)      (None, 76, 76, 384)  0           BN_9[0][0]                       \n",
      "__________________________________________________________________________________________________\n",
      "deconv_3 (Conv2D)               (None, 76, 76, 128)  442496      activation_35[0][0]              \n",
      "__________________________________________________________________________________________________\n",
      "BN_10 (BatchNormalization)      (None, 76, 76, 128)  512         deconv_3[0][0]                   \n",
      "__________________________________________________________________________________________________\n",
      "activation_36 (Activation)      (None, 76, 76, 128)  0           BN_10[0][0]                      \n",
      "__________________________________________________________________________________________________\n",
      "shortconconv_6 (Conv2D)         (None, 76, 76, 128)  49280       concatenate_8[0][0]              \n",
      "__________________________________________________________________________________________________\n",
      "deconv_4 (Conv2D)               (None, 76, 76, 128)  147584      activation_36[0][0]              \n",
      "__________________________________________________________________________________________________\n",
      "add_20 (Add)                    (None, 76, 76, 128)  0           shortconconv_6[0][0]             \n",
      "                                                                 deconv_4[0][0]                   \n",
      "__________________________________________________________________________________________________\n",
      "lambda_6 (Lambda)               (None, 152, 152, 64) 0           add_15[0][0]                     \n",
      "__________________________________________________________________________________________________\n",
      "upsample_3 (UpSampling2D)       (None, 152, 152, 128 0           add_20[0][0]                     \n",
      "__________________________________________________________________________________________________\n",
      "concatenate_9 (Concatenate)     (None, 152, 152, 192 0           lambda_6[0][0]                   \n",
      "                                                                 upsample_3[0][0]                 \n",
      "__________________________________________________________________________________________________\n",
      "BN_11 (BatchNormalization)      (None, 152, 152, 192 768         concatenate_9[0][0]              \n",
      "__________________________________________________________________________________________________\n",
      "activation_37 (Activation)      (None, 152, 152, 192 0           BN_11[0][0]                      \n",
      "__________________________________________________________________________________________________\n",
      "deconv_5 (Conv2D)               (None, 152, 152, 64) 110656      activation_37[0][0]              \n",
      "__________________________________________________________________________________________________\n",
      "BN_12 (BatchNormalization)      (None, 152, 152, 64) 256         deconv_5[0][0]                   \n",
      "__________________________________________________________________________________________________\n",
      "activation_38 (Activation)      (None, 152, 152, 64) 0           BN_12[0][0]                      \n",
      "__________________________________________________________________________________________________\n",
      "shortconconv_7 (Conv2D)         (None, 150, 150, 64) 110656      concatenate_9[0][0]              \n",
      "__________________________________________________________________________________________________\n",
      "deconv_6 (Conv2D)               (None, 150, 150, 64) 36928       activation_38[0][0]              \n",
      "__________________________________________________________________________________________________\n",
      "add_21 (Add)                    (None, 150, 150, 64) 0           shortconconv_7[0][0]             \n",
      "                                                                 deconv_6[0][0]                   \n",
      "__________________________________________________________________________________________________\n",
      "deconv_7 (Conv2D)               (None, 150, 150, 41) 2665        add_21[0][0]                     \n",
      "__________________________________________________________________________________________________\n",
      "activation_39 (Activation)      (None, 150, 150, 41) 0           deconv_7[0][0]                   \n",
      "==================================================================================================\n",
      "Total params: 8,331,945\n",
      "Trainable params: 8,325,673\n",
      "Non-trainable params: 6,272\n",
      "__________________________________________________________________________________________________\n"
     ]
    }
   ],
   "source": [
    "# Complile Model with the same fixed set of hyperparameters\n",
    "autoencoder.compile(optimizer = 'adam',loss = 'categorical_crossentropy',metrics = ['accuracy'])\n",
    "autoencoder.summary()"
   ]
  },
  {
   "cell_type": "code",
   "execution_count": 15,
   "metadata": {
    "collapsed": true
   },
   "outputs": [],
   "source": [
    "# Code for storing history of model \n",
    "checkpoint = ModelCheckpoint(model_name+'/'+model_name+'.h5',monitor='val_loss',verbose = 2,save_best_only = True,save_weights_only = True, mode = 'auto')\n",
    "earlystop = EarlyStopping(monitor='val_loss', min_delta=0, patience = 4, verbose=0, mode='auto')\n",
    "tensorboard = TensorBoard(log_dir='./'+model_name, histogram_freq=0, batch_size=batch, write_graph=True, write_grads=False, write_images=True, embeddings_freq=0, embeddings_layer_names=None, embeddings_metadata=None)\n",
    "rp = ReduceLROnPlateau(monitor='val_loss', factor=0.2, patience = 4, min_lr=0.001)\n",
    "csvlogger = CSVLogger(model_name+'/logs.csv', separator=',', append= True)\n",
    "callbacks = [checkpoint,tensorboard, earlystop, csvlogger, rp]"
   ]
  },
  {
   "cell_type": "code",
   "execution_count": 37,
   "metadata": {
    "collapsed": true
   },
   "outputs": [],
   "source": [
    "# autoencoder.load_weights(model_name+'/'+model_name+'.h5')\n",
    "autoencoder.load_weights(model_name + 'my_weights.h5')"
   ]
  },
  {
   "cell_type": "code",
   "execution_count": null,
   "metadata": {},
   "outputs": [
    {
     "name": "stdout",
     "output_type": "stream",
     "text": [
      "Train on 800 samples, validate on 200 samples\n",
      "Epoch 1/1\n",
      "105/800 [==>...........................] - ETA: 57:32 - loss: 13.2129 - acc: 0.2833"
     ]
    }
   ],
   "source": [
    "# Fine-tune the model with your dataset for segmentation\n",
    "auto_encoder_train = autoencoder.fit(X_train,Y_train, batch_size = batch , epochs=epochs,callbacks = callbacks,validation_data = (X_test,Y_test))"
   ]
  },
  {
   "cell_type": "code",
   "execution_count": 30,
   "metadata": {
    "collapsed": true
   },
   "outputs": [],
   "source": [
    "autoencoder.save_weights(model_name + 'my_weights.h5')"
   ]
  },
  {
   "cell_type": "code",
   "execution_count": 33,
   "metadata": {},
   "outputs": [
    {
     "data": {
      "image/png": "[encoded data removed]",
      "text/plain": [
       "<Figure size 432x288 with 1 Axes>"
      ]
     },
     "metadata": {},
     "output_type": "display_data"
    }
   ],
   "source": [
    "pd.read_csv(model_name+'/logs.csv').plot()\n",
    "plt.show()"
   ]
  },
  {
   "cell_type": "code",
   "execution_count": 23,
   "metadata": {},
   "outputs": [
    {
     "data": {
      "image/png": "[encoded data removed]",
      "text/plain": [
       "<Figure size 432x288 with 1 Axes>"
      ]
     },
     "metadata": {},
     "output_type": "display_data"
    },
    {
     "data": {
      "image/png": "[encoded data removed]",
      "text/plain": [
       "<Figure size 432x288 with 1 Axes>"
      ]
     },
     "metadata": {},
     "output_type": "display_data"
    },
    {
     "data": {
      "image/png": "[encoded data removed]",
      "text/plain": [
       "<Figure size 432x288 with 1 Axes>"
      ]
     },
     "metadata": {},
     "output_type": "display_data"
    }
   ],
   "source": [
    "index = 13\n",
    "inp = np.zeros((1,input_Shape[0],input_Shape[1],3))\n",
    "inp[0] = X_test[index]\n",
    "predicted = autoencoder.predict(inp)\n",
    "out = map_img(predicted[0])\n",
    "plt.imshow(X_test[index])\n",
    "plt.show()\n",
    "os.listdir()\n",
    "lb = plt.imread('./gt/' + x_test[index])\n",
    "plt.imshow(cv2.resize(lb,(input_Shape[0],input_Shape[1])))\n",
    "plt.show()\n",
    "plt.imshow(out)\n",
    "plt.show()\n"
   ]
  }
 ],
 "metadata": {
  "kernelspec": {
   "display_name": "Python 3",
   "language": "python",
   "name": "python3"
  },
  "language_info": {
   "codemirror_mode": {
    "name": "ipython",
    "version": 3
   },
   "file_extension": ".py",
   "mimetype": "text/x-python",
   "name": "python",
   "nbconvert_exporter": "python",
   "pygments_lexer": "ipython3",
   "version": "3.5.4"
  }
 },
 "nbformat": 4,
 "nbformat_minor": 2
}
